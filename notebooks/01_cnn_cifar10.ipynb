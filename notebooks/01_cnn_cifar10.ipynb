{
 "cells": [
  {
   "cell_type": "code",
   "execution_count": 1,
   "metadata": {},
   "outputs": [],
   "source": [
    "from utils import config_gpu, draw_figure\n",
    "session = config_gpu()"
   ]
  },
  {
   "cell_type": "code",
   "execution_count": 2,
   "metadata": {},
   "outputs": [],
   "source": [
    "import numpy as np\n",
    "\n",
    "import tensorflow as tf\n",
    "from tensorflow.keras.datasets import cifar10\n",
    "from tensorflow.keras.utils import to_categorical\n",
    "from tensorflow.keras.models import Sequential\n",
    "from tensorflow.keras.layers import Conv2D\n",
    "from tensorflow.keras.layers import MaxPool2D\n",
    "from tensorflow.keras.layers import Dropout\n",
    "from tensorflow.keras.layers import Flatten\n",
    "from tensorflow.keras.callbacks import TensorBoard\n",
    "from tensorflow.keras.layers import Dense\n",
    "\n",
    "import matplotlib.pyplot as plt\n",
    "%matplotlib inline"
   ]
  },
  {
   "cell_type": "code",
   "execution_count": 3,
   "metadata": {},
   "outputs": [],
   "source": [
    "# (x_train, y_train), (x_test, y_test) = cifar10.load_data()\n",
    "\n",
    "# np.save('../data/cifar10_train_x', x_train)\n",
    "# np.save('../data/cifar10_train_y', y_train)\n",
    "\n",
    "# np.save('../data/cifar10_test_x', x_test)\n",
    "# np.save('../data/cifar10_test_y', y_test)"
   ]
  },
  {
   "cell_type": "code",
   "execution_count": 4,
   "metadata": {},
   "outputs": [],
   "source": [
    "x_train = np.load('../data/cifar10_train_x.npy')\n",
    "y_train = np.load('../data/cifar10_train_y.npy')\n",
    "\n",
    "x_test = np.load('../data/cifar10_test_x.npy')\n",
    "y_test = np.load('../data/cifar10_test_y.npy')"
   ]
  },
  {
   "cell_type": "code",
   "execution_count": 5,
   "metadata": {},
   "outputs": [
    {
     "name": "stdout",
     "output_type": "stream",
     "text": [
      "(50000, 32, 32, 3) (50000, 1)\n",
      "(10000, 32, 32, 3) (10000, 1)\n"
     ]
    }
   ],
   "source": [
    "print(x_train.shape, y_train.shape)\n",
    "print(x_test.shape, y_test.shape)"
   ]
  },
  {
   "cell_type": "code",
   "execution_count": 6,
   "metadata": {},
   "outputs": [],
   "source": [
    "y_train = to_categorical(y_train, 10)\n",
    "y_test = to_categorical(y_test, 10)"
   ]
  },
  {
   "cell_type": "code",
   "execution_count": 7,
   "metadata": {},
   "outputs": [],
   "source": [
    "model = Sequential()"
   ]
  },
  {
   "cell_type": "code",
   "execution_count": 8,
   "metadata": {},
   "outputs": [],
   "source": [
    "model.add(\n",
    "    Conv2D(\n",
    "        filters=32,\n",
    "        input_shape=(32, 32, 3),\n",
    "        kernel_size=(3, 3),\n",
    "        strides=(1, 1),\n",
    "        padding='same',\n",
    "        activation='relu'\n",
    "    )\n",
    ")"
   ]
  },
  {
   "cell_type": "code",
   "execution_count": 9,
   "metadata": {},
   "outputs": [],
   "source": [
    "model.add(\n",
    "    Conv2D(\n",
    "        filters=32,\n",
    "        kernel_size=(3, 3),\n",
    "        strides=(1, 1),\n",
    "        padding='same',\n",
    "        activation='relu'\n",
    "    )\n",
    ")"
   ]
  },
  {
   "cell_type": "code",
   "execution_count": 10,
   "metadata": {},
   "outputs": [],
   "source": [
    "model.add(MaxPool2D(pool_size=(2, 2)))"
   ]
  },
  {
   "cell_type": "code",
   "execution_count": 11,
   "metadata": {},
   "outputs": [],
   "source": [
    "model.add(Dropout(0.25))"
   ]
  },
  {
   "cell_type": "code",
   "execution_count": 12,
   "metadata": {},
   "outputs": [],
   "source": [
    "model.add(\n",
    "    Conv2D(\n",
    "        filters=64,\n",
    "        kernel_size=(3, 3),\n",
    "        strides=(1, 1),\n",
    "        padding='same',\n",
    "        activation='relu'\n",
    "    )\n",
    ")"
   ]
  },
  {
   "cell_type": "code",
   "execution_count": 13,
   "metadata": {},
   "outputs": [],
   "source": [
    "model.add(\n",
    "    Conv2D(\n",
    "        filters=64,\n",
    "        kernel_size=(3, 3),\n",
    "        strides=(1, 1),\n",
    "        padding='same',\n",
    "        activation='relu'\n",
    "    )\n",
    ")"
   ]
  },
  {
   "cell_type": "code",
   "execution_count": 14,
   "metadata": {},
   "outputs": [],
   "source": [
    "model.add(MaxPool2D(pool_size=(2, 2)))"
   ]
  },
  {
   "cell_type": "code",
   "execution_count": 15,
   "metadata": {},
   "outputs": [],
   "source": [
    "model.add(Dropout(0.25))"
   ]
  },
  {
   "cell_type": "code",
   "execution_count": 16,
   "metadata": {},
   "outputs": [
    {
     "data": {
      "text/plain": [
       "(None, 8, 8, 64)"
      ]
     },
     "execution_count": 16,
     "metadata": {},
     "output_type": "execute_result"
    }
   ],
   "source": [
    "model.output_shape"
   ]
  },
  {
   "cell_type": "code",
   "execution_count": 17,
   "metadata": {},
   "outputs": [],
   "source": [
    "model.add(Flatten())"
   ]
  },
  {
   "cell_type": "code",
   "execution_count": 18,
   "metadata": {},
   "outputs": [
    {
     "data": {
      "text/plain": [
       "(None, 4096)"
      ]
     },
     "execution_count": 18,
     "metadata": {},
     "output_type": "execute_result"
    }
   ],
   "source": [
    "model.output_shape"
   ]
  },
  {
   "cell_type": "code",
   "execution_count": 19,
   "metadata": {},
   "outputs": [],
   "source": [
    "model.add(Dense(units=512, activation='relu'))\n",
    "model.add(Dropout(0.5))\n",
    "model.add(Dense(units=10, activation='softmax'))"
   ]
  },
  {
   "cell_type": "code",
   "execution_count": 20,
   "metadata": {},
   "outputs": [],
   "source": [
    "model.compile(optimizer='adam',\n",
    "              loss='categorical_crossentropy',\n",
    "              metrics=['accuracy'])"
   ]
  },
  {
   "cell_type": "code",
   "execution_count": 21,
   "metadata": {},
   "outputs": [],
   "source": [
    "tsb = TensorBoard(log_dir='../logs/cifar10_base')"
   ]
  },
  {
   "cell_type": "code",
   "execution_count": 22,
   "metadata": {},
   "outputs": [
    {
     "name": "stdout",
     "output_type": "stream",
     "text": [
      "Train on 40000 samples, validate on 10000 samples\n",
      "Epoch 1/20\n",
      "40000/40000 [==============================] - 6s 144us/sample - loss: 3.5482 - accuracy: 0.3041 - val_loss: 1.5110 - val_accuracy: 0.4548\n",
      "Epoch 2/20\n",
      "40000/40000 [==============================] - 4s 107us/sample - loss: 1.5381 - accuracy: 0.4479 - val_loss: 1.3208 - val_accuracy: 0.5265\n",
      "Epoch 3/20\n",
      "40000/40000 [==============================] - 4s 109us/sample - loss: 1.3746 - accuracy: 0.5072 - val_loss: 1.1898 - val_accuracy: 0.5868\n",
      "Epoch 4/20\n",
      "40000/40000 [==============================] - 4s 109us/sample - loss: 1.2617 - accuracy: 0.5484 - val_loss: 1.1842 - val_accuracy: 0.5847\n",
      "Epoch 5/20\n",
      "40000/40000 [==============================] - 4s 109us/sample - loss: 1.1697 - accuracy: 0.5861 - val_loss: 1.0399 - val_accuracy: 0.6354\n",
      "Epoch 6/20\n",
      "40000/40000 [==============================] - 4s 109us/sample - loss: 1.0990 - accuracy: 0.6109 - val_loss: 0.9908 - val_accuracy: 0.6603\n",
      "Epoch 7/20\n",
      "40000/40000 [==============================] - 4s 109us/sample - loss: 1.0372 - accuracy: 0.6346 - val_loss: 0.9703 - val_accuracy: 0.6568\n",
      "Epoch 8/20\n",
      "40000/40000 [==============================] - 4s 99us/sample - loss: 0.9831 - accuracy: 0.6503 - val_loss: 0.9517 - val_accuracy: 0.6695\n",
      "Epoch 9/20\n",
      "40000/40000 [==============================] - 4s 100us/sample - loss: 0.9189 - accuracy: 0.6743 - val_loss: 0.8747 - val_accuracy: 0.6961\n",
      "Epoch 10/20\n",
      "40000/40000 [==============================] - 4s 110us/sample - loss: 0.8821 - accuracy: 0.6906 - val_loss: 0.8362 - val_accuracy: 0.7066\n",
      "Epoch 11/20\n",
      "40000/40000 [==============================] - 4s 109us/sample - loss: 0.8554 - accuracy: 0.6956 - val_loss: 0.8267 - val_accuracy: 0.7089\n",
      "Epoch 12/20\n",
      "40000/40000 [==============================] - 4s 110us/sample - loss: 0.8059 - accuracy: 0.7148 - val_loss: 0.8188 - val_accuracy: 0.7140\n",
      "Epoch 13/20\n",
      "40000/40000 [==============================] - 4s 109us/sample - loss: 0.7929 - accuracy: 0.7203 - val_loss: 0.8350 - val_accuracy: 0.7078\n",
      "Epoch 14/20\n",
      "40000/40000 [==============================] - 4s 110us/sample - loss: 0.7599 - accuracy: 0.7325 - val_loss: 0.7635 - val_accuracy: 0.7385\n",
      "Epoch 15/20\n",
      "40000/40000 [==============================] - 4s 109us/sample - loss: 0.7246 - accuracy: 0.7443 - val_loss: 0.7610 - val_accuracy: 0.7355\n",
      "Epoch 16/20\n",
      "40000/40000 [==============================] - 4s 109us/sample - loss: 0.7094 - accuracy: 0.7507 - val_loss: 0.7540 - val_accuracy: 0.7371\n",
      "Epoch 17/20\n",
      "40000/40000 [==============================] - 4s 111us/sample - loss: 0.6865 - accuracy: 0.7577 - val_loss: 0.7979 - val_accuracy: 0.7268\n",
      "Epoch 18/20\n",
      "40000/40000 [==============================] - 4s 109us/sample - loss: 0.6701 - accuracy: 0.7609 - val_loss: 0.7822 - val_accuracy: 0.7353\n",
      "Epoch 19/20\n",
      "40000/40000 [==============================] - 4s 110us/sample - loss: 0.6370 - accuracy: 0.7758 - val_loss: 0.7357 - val_accuracy: 0.7506\n",
      "Epoch 20/20\n",
      "40000/40000 [==============================] - 4s 112us/sample - loss: 0.6295 - accuracy: 0.7781 - val_loss: 0.7447 - val_accuracy: 0.7414\n"
     ]
    }
   ],
   "source": [
    "history_model1 = model.fit(\n",
    "    x_train,\n",
    "    y_train,\n",
    "    batch_size=128,\n",
    "    epochs=20,\n",
    "    validation_split=0.2,\n",
    "    callbacks=[tsb]\n",
    ")"
   ]
  },
  {
   "cell_type": "code",
   "execution_count": null,
   "metadata": {},
   "outputs": [],
   "source": []
  },
  {
   "cell_type": "code",
   "execution_count": 25,
   "metadata": {},
   "outputs": [],
   "source": [
    "def draw_figure(model_history, key):\n",
    "\n",
    "    yticks = model_history.history[key]\n",
    "    xticks = range(len(yticks))\n",
    "\n",
    "    fig, ax = plt.subplots()\n",
    "    ax.grid(alpha=0.5, color='gray', linestyle='--')\n",
    "    ax.tick_params(labelsize=12)\n",
    "    ax.plot(xticks, yticks, color='blue')\n",
    "    ax.set_xlabel('Epoch', fontsize=15)\n",
    "    ax.set_ylabel(key, fontsize=15)"
   ]
  },
  {
   "cell_type": "code",
   "execution_count": 26,
   "metadata": {},
   "outputs": [
    {
     "data": {
      "text/plain": [
       "dict_keys(['loss', 'accuracy', 'val_loss', 'val_accuracy'])"
      ]
     },
     "execution_count": 26,
     "metadata": {},
     "output_type": "execute_result"
    }
   ],
   "source": [
    "history_model1.history.keys()"
   ]
  },
  {
   "cell_type": "code",
   "execution_count": 27,
   "metadata": {},
   "outputs": [
    {
     "data": {
      "image/png": "[encoded data removed]",
      "text/plain": [
       "<Figure size 432x288 with 1 Axes>"
      ]
     },
     "metadata": {
      "needs_background": "light"
     },
     "output_type": "display_data"
    }
   ],
   "source": [
    "draw_figure(history_model1, 'loss')"
   ]
  },
  {
   "cell_type": "code",
   "execution_count": 28,
   "metadata": {},
   "outputs": [
    {
     "data": {
      "image/png": "[encoded data removed]",
      "text/plain": [
       "<Figure size 432x288 with 1 Axes>"
      ]
     },
     "metadata": {
      "needs_background": "light"
     },
     "output_type": "display_data"
    }
   ],
   "source": [
    "draw_figure(history_model1, 'accuracy')"
   ]
  },
  {
   "cell_type": "code",
   "execution_count": 29,
   "metadata": {},
   "outputs": [
    {
     "data": {
      "image/png": "[encoded data removed]",
      "text/plain": [
       "<Figure size 432x288 with 1 Axes>"
      ]
     },
     "metadata": {
      "needs_background": "light"
     },
     "output_type": "display_data"
    }
   ],
   "source": [
    "draw_figure(history_model1, 'val_loss')"
   ]
  },
  {
   "cell_type": "code",
   "execution_count": 30,
   "metadata": {},
   "outputs": [
    {
     "data": {
      "image/png": "[encoded data removed]",
      "text/plain": [
       "<Figure size 432x288 with 1 Axes>"
      ]
     },
     "metadata": {
      "needs_background": "light"
     },
     "output_type": "display_data"
    }
   ],
   "source": [
    "draw_figure(history_model1, 'val_accuracy')"
   ]
  },
  {
   "cell_type": "code",
   "execution_count": null,
   "metadata": {},
   "outputs": [],
   "source": []
  },
  {
   "cell_type": "code",
   "execution_count": null,
   "metadata": {},
   "outputs": [],
   "source": []
  },
  {
   "cell_type": "code",
   "execution_count": null,
   "metadata": {},
   "outputs": [],
   "source": []
  },
  {
   "cell_type": "code",
   "execution_count": null,
   "metadata": {},
   "outputs": [],
   "source": []
  }
 ],
 "metadata": {
  "kernelspec": {
   "display_name": "Python 3",
   "language": "python",
   "name": "python3"
  },
  "language_info": {
   "codemirror_mode": {
    "name": "ipython",
    "version": 3
   },
   "file_extension": ".py",
   "mimetype": "text/x-python",
   "name": "python",
   "nbconvert_exporter": "python",
   "pygments_lexer": "ipython3",
   "version": "3.6.9"
  }
 },
 "nbformat": 4,
 "nbformat_minor": 2
}
